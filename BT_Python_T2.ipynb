{
 "cells": [
  {
   "cell_type": "markdown",
   "id": "ded5dbae",
   "metadata": {},
   "source": [
    "### Work 4_1"
   ]
  },
  {
   "cell_type": "markdown",
   "id": "e51ca555",
   "metadata": {},
   "source": [
    "#### 1. L = [2 ,4, 9, 3, 5]. Cho biết kết quả các câu lệnh sau:\n",
    "* a. L[2]\n",
    "* b. L[-1]\n",
    "* c. len(L)\n",
    "* d. L[0:2]\n",
    "* e. 0 in L\n",
    "* f. L + [24, 1, 4]\n",
    "* g. tuple(L)"
   ]
  },
  {
   "cell_type": "code",
   "execution_count": 1,
   "id": "95d9a510",
   "metadata": {},
   "outputs": [
    {
     "name": "stdout",
     "output_type": "stream",
     "text": [
      "9\n",
      "5\n",
      "5\n",
      "[2, 4]\n",
      "False\n",
      "[2, 4, 9, 3, 5, 24, 1, 4]\n",
      "(2, 4, 9, 3, 5)\n"
     ]
    }
   ],
   "source": [
    "L = [2, 4, 9, 3, 5]\n",
    "\n",
    "# a. L[2] -> phần tử thứ 3 (index 2)\n",
    "print(L[2])  # 9\n",
    "\n",
    "# b. L[-1] -> phần tử cuối cùng\n",
    "print(L[-1])  # 5\n",
    "\n",
    "# c. len(L) -> độ dài danh sách\n",
    "print(len(L))  # 5\n",
    "\n",
    "# d. L[0:2] -> các phần tử từ index 0 đến index 1\n",
    "print(L[0:2])  # [2, 4]\n",
    "\n",
    "# e. 0 in L -> kiểm tra 0 có trong danh sách không\n",
    "print(0 in L)  # False\n",
    "\n",
    "# f. L + [24, 1, 4] -> nối thêm danh sách khác\n",
    "print(L + [24, 1, 4])  # [2, 4, 9, 3, 5, 24, 1, 4]\n",
    "\n",
    "# g. tuple(L) -> chuyển list sang tuple\n",
    "print(tuple(L))  # (2, 4, 9, 3, 5)\n"
   ]
  },
  {
   "cell_type": "markdown",
   "id": "e1252a12",
   "metadata": {},
   "source": [
    "#### 2. L = [2 ,4, 9, 3, 5]. Viết các câu lệnh thực hiện các yêu cầu sau đây:\n",
    "* a. Thay thế phần tử đầu tiên thành số âm tương ứng.\n",
    "* b. Thêm 20 vào cuối danh sách.\n",
    "* c. Thêm số 0 vào vị trí thứ 3 trong danh sách.\n",
    "* d. Xóa phần tử tại vị trí số 4 trong danh sách.\n",
    "* e. Thêm list [0,0,0] vào sau danh sách trên.\n",
    "* f. Sắp xếp danh sách giảm dần."
   ]
  },
  {
   "cell_type": "code",
   "execution_count": 2,
   "id": "bf66ae89",
   "metadata": {},
   "outputs": [
    {
     "name": "stdout",
     "output_type": "stream",
     "text": [
      "[20, 5, 4, 3, 0, 0, 0, 0, -2]\n"
     ]
    }
   ],
   "source": [
    "L = [2, 4, 9, 3, 5]\n",
    "\n",
    "# a. Thay thế phần tử đầu tiên thành số âm tương ứng\n",
    "L[0] = -L[0]  # [-2, 4, 9, 3, 5]\n",
    "\n",
    "# b. Thêm 20 vào cuối danh sách\n",
    "L.append(20)  # [-2, 4, 9, 3, 5, 20]\n",
    "\n",
    "# c. Thêm số 0 vào vị trí thứ 3 (index 2)\n",
    "L.insert(2, 0)  # [-2, 4, 0, 9, 3, 5, 20]\n",
    "\n",
    "# d. Xóa phần tử tại vị trí số 4 (index 3)\n",
    "L.pop(3)  # [-2, 4, 0, 3, 5, 20]\n",
    "\n",
    "# e. Thêm list [0,0,0] vào sau danh sách\n",
    "L.extend([0,0,0])  # [-2, 4, 0, 3, 5, 20, 0, 0, 0]\n",
    "\n",
    "# f. Sắp xếp danh sách giảm dần\n",
    "L.sort(reverse=True)  # [20, 5, 4, 3, 0, 0, 0, 0, -2]\n",
    "print(L)\n"
   ]
  },
  {
   "cell_type": "markdown",
   "id": "df4c162f",
   "metadata": {},
   "source": [
    "#### 1. Cho một danh sách bao gồm các chuỗi chứa các chữ số.\n",
    "#### Ví dụ: A = [‘3’, ‘27’,’5’,’123’,’9’,’1’]\n",
    "#### Viết hàm sắp xếp chuỗi tăng dần theo hai kiểu (string compare hoặc integer compare)\n",
    "#### Ví dụ:\n",
    "* string compare ( so sánh theo thứ tự từ điển)\n",
    "\n",
    "#### Danh sách A sau khi được sắp xếp [‘1’, ‘123’,’27’,’3’,’5’,’9’]\n",
    "\n",
    "* integer compare (so sánh theo số nguyên)\n",
    "\n",
    "#### Danh sách A sau khi được sắp xếp [‘1’, ‘3’,’5’,’9’,’27’,’123’]\n",
    "\n",
    "#### Gợi ý dùng sorted() và key function"
   ]
  },
  {
   "cell_type": "code",
   "execution_count": null,
   "id": "d22fb77e",
   "metadata": {},
   "outputs": [],
   "source": [
    "A = input(\"Nhập danh sách chuỗi số, cách nhau bởi khoảng trắng: \").split()\n",
    "\n",
    "# a) String compare\n",
    "print(\"String compare:\", sorted(A))\n",
    "\n",
    "# b) Integer compare\n",
    "print(\"Integer compare:\", sorted(A, key=int))\n"
   ]
  },
  {
   "cell_type": "markdown",
   "id": "43c0b1d1",
   "metadata": {},
   "source": [
    "#### 2. Viết chương trình in list sau khi đã xóa số tại vị trí thứ 1, thứ 2, thứ 3, thứ 6 trong [12,24,35,70,88,120,155].\n",
    "* Dùng list comprehension và enumerate()"
   ]
  },
  {
   "cell_type": "code",
   "execution_count": null,
   "id": "322729b2",
   "metadata": {},
   "outputs": [],
   "source": [
    "# lst = list(map(int, input(\"Nhập danh sách số nguyên, cách nhau bởi khoảng trắng: \").split())) - cho nhập\n",
    "# positions = [1, 2, 3, 6]\n",
    "\n",
    "# new_lst = [x for i, x in enumerate(lst) if i not in positions]\n",
    "# print(\"Danh sách sau khi xóa:\", new_lst)\n",
    "\n",
    "lst = [12,24,35,70,88,120,155]\n",
    "positions = [1,2,3,6]\n",
    "\n",
    "# Sử dụng list comprehension và enumerate\n",
    "new_lst = [x for i,x in enumerate(lst) if i not in positions]\n",
    "print(new_lst)  # [12, 88, 120]\n"
   ]
  },
  {
   "cell_type": "markdown",
   "id": "cdc9e238",
   "metadata": {},
   "source": [
    "#### 3. Xóa các phần tử trùng nhau trong list.\n",
    "#### a) Dùng vòng lặp, Yêu cầu không dùng hàm của kiểu dữ liệu dictionary và set\n",
    "#### b) Không ràng buộc\n",
    "#### Ví dụ:\n",
    "#### Input A = [1, 2, 3, 1, 2, 5, 6, 7, 8]\n",
    "#### Output B = [1, 2, 3, 5, 6, 7, 8]"
   ]
  },
  {
   "cell_type": "code",
   "execution_count": null,
   "id": "d91da50a",
   "metadata": {},
   "outputs": [],
   "source": [
    "# Dùng vòng lặp, Yêu cầu không dùng hàm của kiểu dữ liệu dictionary và set\n",
    "A = list(map(int, input(\"Nhập danh sách số nguyên, cách nhau bởi khoảng trắng: \").split()))\n",
    "B = []\n",
    "for x in A:\n",
    "    if x not in B:\n",
    "        B.append(x)\n",
    "print(\"Sau khi xóa trùng (vòng lặp):\", B)\n"
   ]
  },
  {
   "cell_type": "code",
   "execution_count": null,
   "id": "594ac30c",
   "metadata": {},
   "outputs": [],
   "source": [
    "# Không ràng buộc\n",
    "A = list(map(int, input(\"Nhập danh sách số nguyên, cách nhau bởi khoảng trắng: \").split()))\n",
    "B = list(dict.fromkeys(A))\n",
    "print(\"Sau khi xóa trùng (dùng dict):\", B)\n"
   ]
  },
  {
   "cell_type": "markdown",
   "id": "c10a6170",
   "metadata": {},
   "source": [
    "#### 4. Đếm số lần xuất hiện của các phần tử trong list.\n",
    "#### a) Dùng vòng lặp, Yêu cầu không dùng hàm của kiểu dữ liệu dictionary, set hay module collections\n",
    "#### b) Không ràng buộc\n",
    "#### Ví dụ: A = [1,1,1,1,2,2,2,2,3,3,4,5,5]\n",
    "#### Output: 1: 4, 2: 4, 3:2, 4:1, 5:2"
   ]
  },
  {
   "cell_type": "code",
   "execution_count": null,
   "id": "80df18dc",
   "metadata": {},
   "outputs": [],
   "source": [
    "# a) Dùng vòng lặp, Yêu cầu không dùng hàm của kiểu dữ liệu dictionary, set hay module collections\n",
    "A = list(map(int, input(\"Nhập danh sách số nguyên, cách nhau bởi khoảng trắng: \").split()))\n",
    "counted = []\n",
    "for x in A:\n",
    "    if x not in counted:\n",
    "        cnt = 0\n",
    "        for y in A:\n",
    "            if x == y:\n",
    "                cnt += 1\n",
    "        print(f\"{x}: {cnt}\")\n",
    "        counted.append(x)\n"
   ]
  },
  {
   "cell_type": "code",
   "execution_count": null,
   "id": "e818014b",
   "metadata": {},
   "outputs": [],
   "source": [
    "# b) Không ràng buộc\n",
    "from collections import Counter\n",
    "A = list(map(int, input(\"Nhập danh sách số nguyên, cách nhau bởi khoảng trắng: \").split()))\n",
    "counts = Counter(A)\n",
    "for k, v in counts.items():\n",
    "    print(f\"{k}: {v}\")\n"
   ]
  },
  {
   "cell_type": "markdown",
   "id": "d9a9e3c4",
   "metadata": {},
   "source": [
    "#### 5. Viết chương trình nhập một list chứa các số nguyên dương theo các yêu cầu sau:\n",
    "#### a) nhập trước số phần từ của list, sau đó nhập từng phần tử.\n",
    "#### b) không nhập trước số lượng phần tử, quá trình nhập kết thức nếu nhập vào số -1."
   ]
  },
  {
   "cell_type": "code",
   "execution_count": null,
   "id": "a7a1866b",
   "metadata": {},
   "outputs": [],
   "source": [
    "# # a) nhập trước số phần từ của list, sau đó nhập từng phần tử - không dùng hàm\n",
    "# lst = []\n",
    "# for i in range(n):\n",
    "#     x = int(input(f\"Nhập phần tử thứ {i+1}: \"))\n",
    "#     lst.append(x)\n",
    "# print(\"Danh sách đã nhập:\", lst)\n",
    "\n",
    "# a) Nhập trước số phần tử của list - dùng hàm\n",
    "def nhap_list_co_dinh():\n",
    "    n = int(input(\"Nhập số phần tử: \"))\n",
    "    lst = []\n",
    "    for i in range(n):\n",
    "        x = int(input(f\"Nhập phần tử thứ {i+1}: \"))\n",
    "        lst.append(x)\n",
    "    return lst\n"
   ]
  },
  {
   "cell_type": "code",
   "execution_count": null,
   "id": "469aaef0",
   "metadata": {},
   "outputs": [],
   "source": [
    "# # b) không nhập trước số lượng phần tử, quá trình nhập kết thức nếu nhập vào số -1 - không dùng hàm\n",
    "# lst = []\n",
    "# while True:\n",
    "#     x = int(input(\"Nhập số (-1 để kết thúc): \"))\n",
    "#     if x == -1:\n",
    "#         break\n",
    "#     lst.append(x)\n",
    "# print(\"Danh sách đã nhập:\", lst)\n",
    "\n",
    "# b) Nhập list không biết trước số phần tử, kết thúc khi nhập -1 - dùng hàm\n",
    "def nhap_list_ket_thuc_bang_am1():\n",
    "    lst = []\n",
    "    while True:\n",
    "        x = int(input(\"Nhập số (-1 để kết thúc): \"))\n",
    "        if x == -1:\n",
    "            break\n",
    "        lst.append(x)\n",
    "    return lst"
   ]
  },
  {
   "cell_type": "markdown",
   "id": "2747ec36",
   "metadata": {},
   "source": [
    "#### 6. Cho 2 list như sau: ( 2 list có thể khác độ dài)\n",
    "* a = [1, 1, 2, 3, 5, 8, 13, 21, 34, 55, 89]\n",
    "* b = [1, 2, 3, 4, 5, 6, 7, 8, 9, 10, 11, 12, 13]\n",
    "#### Viết chương trình tạo ra một list chứa các phần tử chung của 2 list ban đầu theo các yêu cầu sau:\n",
    "#### a) Không dùng List Comprehension\n",
    "#### b) Dùng List Comprehension"
   ]
  },
  {
   "cell_type": "code",
   "execution_count": null,
   "id": "3589247d",
   "metadata": {},
   "outputs": [],
   "source": [
    "# a) Không dùng List Comprehension\n",
    "a = list(map(int, input(\"Nhập list a (cách nhau bởi khoảng trắng): \").split()))\n",
    "b = list(map(int, input(\"Nhập list b (cách nhau bởi khoảng trắng): \").split()))\n",
    "common = []\n",
    "for x in a:\n",
    "    if x in b and x not in common:\n",
    "        common.append(x)\n",
    "print(\"Giao của 2 list (for loop):\", common)\n"
   ]
  },
  {
   "cell_type": "code",
   "execution_count": null,
   "id": "c9512754",
   "metadata": {},
   "outputs": [],
   "source": [
    "# b) Dùng List Comprehension\n",
    "a = list(map(int, input(\"Nhập list a (cách nhau bởi khoảng trắng): \").split()))\n",
    "b = list(map(int, input(\"Nhập list b (cách nhau bởi khoảng trắng): \").split()))\n",
    "common2 = [x for x in a if x in b]\n",
    "common2 = list(dict.fromkeys(common2))  # loại bỏ trùng lặp\n",
    "print(\"Giao của 2 list (list comprehension):\", common2)"
   ]
  }
 ],
 "metadata": {
  "kernelspec": {
   "display_name": "base",
   "language": "python",
   "name": "python3"
  },
  "language_info": {
   "codemirror_mode": {
    "name": "ipython",
    "version": 3
   },
   "file_extension": ".py",
   "mimetype": "text/x-python",
   "name": "python",
   "nbconvert_exporter": "python",
   "pygments_lexer": "ipython3",
   "version": "3.13.5"
  }
 },
 "nbformat": 4,
 "nbformat_minor": 5
}
