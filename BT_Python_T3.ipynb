{
 "cells": [
  {
   "cell_type": "markdown",
   "id": "7072f12d",
   "metadata": {},
   "source": [
    "### Work 4_2"
   ]
  },
  {
   "cell_type": "markdown",
   "id": "547e78cf",
   "metadata": {},
   "source": [
    "#### 1. Cho ví dụ về 03 đối tượng trong thực tế có thể lưu trữ dưới dạng dictionary"
   ]
  },
  {
   "cell_type": "code",
   "execution_count": 3,
   "id": "213debda",
   "metadata": {},
   "outputs": [
    {
     "name": "stdout",
     "output_type": "stream",
     "text": [
      "{'id': 'SV001', 'name': 'Nguyễn Văn A', 'age': 20, 'major': 'CNTT'}\n",
      "{'Toán': 9, 'Lý': 8, 'Hóa': 7}\n",
      "{'id': 'P001', 'name': 'Laptop', 'price': 15000000, 'stock': 12}\n"
     ]
    }
   ],
   "source": [
    "# Ví dụ 1: Thông tin sinh viên\n",
    "student = {\"id\": \"SV001\", \"name\": \"Nguyễn Văn A\", \"age\": 20, \"major\": \"CNTT\"}\n",
    "\n",
    "# Ví dụ 2: Bảng điểm môn học\n",
    "grades = {\"Toán\": 9, \"Lý\": 8, \"Hóa\": 7}\n",
    "\n",
    "# Ví dụ 3: Sản phẩm trong cửa hàng\n",
    "product = {\"id\": \"P001\", \"name\": \"Laptop\", \"price\": 15000000, \"stock\": 12}\n",
    "\n",
    "print(student)\n",
    "print(grades)\n",
    "print(product)"
   ]
  },
  {
   "cell_type": "markdown",
   "id": "203747ab",
   "metadata": {},
   "source": [
    "#### 2. Giả sử từ điển d = {'b':200, 'a':100, 'c':1}. Cho biết kết quả các câu lệnh sau\n",
    "* a) d['a']\n",
    "* b) d.get('e', None)\n",
    "* c) len(d)\n",
    "* d) d.keys()\n",
    "* e) d.values()\n",
    "* f) d.pop('b')\n",
    "* h) giá trị của d sau khi thực hiện lệnh pop"
   ]
  },
  {
   "cell_type": "code",
   "execution_count": 4,
   "id": "21c115d4",
   "metadata": {},
   "outputs": [
    {
     "name": "stdout",
     "output_type": "stream",
     "text": [
      "100\n",
      "None\n",
      "3\n",
      "dict_keys(['b', 'a', 'c'])\n",
      "dict_values([200, 100, 1])\n",
      "200\n",
      "{'a': 100, 'c': 1}\n"
     ]
    }
   ],
   "source": [
    "d = {'b':200, 'a':100, 'c':1}\n",
    "\n",
    "# a) d['a']\n",
    "print(d['a'])  # 100\n",
    "\n",
    "# b) d.get('e', None)\n",
    "print(d.get('e', None))  # None\n",
    "\n",
    "# c) len(d)\n",
    "print(len(d))  # 3\n",
    "\n",
    "# d) d.keys()\n",
    "print(d.keys())  # dict_keys(['b', 'a', 'c'])\n",
    "\n",
    "# e) d.values()\n",
    "print(d.values())  # dict_values([200, 100, 1])\n",
    "\n",
    "# f) d.pop('b')\n",
    "print(d.pop('b'))  # 200\n",
    "\n",
    "# h) Giá trị của d sau khi pop\n",
    "print(d)  # {'a': 100, 'c': 1}\n"
   ]
  },
  {
   "cell_type": "markdown",
   "id": "245b57ff",
   "metadata": {},
   "source": [
    "#### 3. Giả sử từ điển d = {'b':200, 'a':100, 'c':1}. Thực hiện các câu lệnh theo yêu cầu sau:\n",
    "* a) Thay thế giá trị của khóa b thành số âm tương ứng.\n",
    "* b) Thêm một khóa 'e' có giá trị là 500 vào d 'e':500\n",
    "* c) Xóa khóa b ra khỏi từ điển (theo cách an toàn).\n",
    "* d) In các cặp (key,value) ra màn hình theo thứ tự từ điển."
   ]
  },
  {
   "cell_type": "code",
   "execution_count": 6,
   "id": "9a01e894",
   "metadata": {},
   "outputs": [
    {
     "name": "stdout",
     "output_type": "stream",
     "text": [
      "{'b': -200, 'a': 100, 'c': 1}\n",
      "{'b': -200, 'a': 100, 'c': 1, 'e': 500}\n",
      "{'a': 100, 'c': 1, 'e': 500}\n",
      "a 100\n",
      "c 1\n",
      "e 500\n"
     ]
    }
   ],
   "source": [
    "d = {'b':200, 'a':100, 'c':1}\n",
    "\n",
    "# a) Thay thế giá trị của khóa b thành số âm\n",
    "d['b'] = -d['b']\n",
    "print(d)  # {'b': -200, 'a': 100, 'c': 1}\n",
    "\n",
    "# b) Thêm khóa 'e' = 500\n",
    "d['e'] = 500\n",
    "print(d)  # {'b': -200, 'a': 100, 'c': 1, 'e': 500}\n",
    "\n",
    "# c) Xóa khóa 'b' (cách an toàn: dùng pop với mặc định)\n",
    "d.pop('b', None)\n",
    "print(d)  # {'a': 100, 'c': 1, 'e': 500}\n",
    "\n",
    "# d) In ra cặp (key,value) theo thứ tự từ điển (sorted key)\n",
    "for k in sorted(d.keys()):\n",
    "    print(k, d[k])\n"
   ]
  },
  {
   "cell_type": "markdown",
   "id": "75b0e10b",
   "metadata": {},
   "source": [
    "#### 1. Tạo một tập hợp gồm các phần tử từ 0 đến 200. In tập hợp ra màn hình."
   ]
  },
  {
   "cell_type": "code",
   "execution_count": 7,
   "id": "7cc7cdad",
   "metadata": {},
   "outputs": [
    {
     "name": "stdout",
     "output_type": "stream",
     "text": [
      "{0, 1, 2, 3, 4, 5, 6, 7, 8, 9, 10, 11, 12, 13, 14, 15, 16, 17, 18, 19, 20, 21, 22, 23, 24, 25, 26, 27, 28, 29, 30, 31, 32, 33, 34, 35, 36, 37, 38, 39, 40, 41, 42, 43, 44, 45, 46, 47, 48, 49, 50, 51, 52, 53, 54, 55, 56, 57, 58, 59, 60, 61, 62, 63, 64, 65, 66, 67, 68, 69, 70, 71, 72, 73, 74, 75, 76, 77, 78, 79, 80, 81, 82, 83, 84, 85, 86, 87, 88, 89, 90, 91, 92, 93, 94, 95, 96, 97, 98, 99, 100, 101, 102, 103, 104, 105, 106, 107, 108, 109, 110, 111, 112, 113, 114, 115, 116, 117, 118, 119, 120, 121, 122, 123, 124, 125, 126, 127, 128, 129, 130, 131, 132, 133, 134, 135, 136, 137, 138, 139, 140, 141, 142, 143, 144, 145, 146, 147, 148, 149, 150, 151, 152, 153, 154, 155, 156, 157, 158, 159, 160, 161, 162, 163, 164, 165, 166, 167, 168, 169, 170, 171, 172, 173, 174, 175, 176, 177, 178, 179, 180, 181, 182, 183, 184, 185, 186, 187, 188, 189, 190, 191, 192, 193, 194, 195, 196, 197, 198, 199, 200}\n"
     ]
    }
   ],
   "source": [
    "s = set(range(201))\n",
    "print(s)\n"
   ]
  },
  {
   "cell_type": "markdown",
   "id": "80b0886b",
   "metadata": {},
   "source": [
    "#### 2. Tạo một tập hợp gồm các số nguyên tố trong khoảng (10,2000). In tập hợp ra màn hình."
   ]
  },
  {
   "cell_type": "code",
   "execution_count": 8,
   "id": "97322d2e",
   "metadata": {},
   "outputs": [
    {
     "name": "stdout",
     "output_type": "stream",
     "text": [
      "{1031, 1543, 521, 1033, 11, 523, 13, 1549, 1039, 17, 1021, 19, 1553, 23, 1531, 1049, 1559, 1051, 29, 541, 31, 1567, 547, 1571, 37, 1061, 1063, 41, 43, 1579, 557, 1069, 47, 1583, 563, 53, 569, 59, 571, 61, 1597, 1087, 577, 1601, 67, 1091, 1093, 71, 1607, 73, 1097, 587, 1609, 1613, 79, 1103, 593, 83, 1619, 1109, 1621, 599, 89, 601, 1627, 1117, 607, 97, 1123, 101, 613, 103, 1637, 617, 1129, 107, 619, 109, 113, 631, 1657, 127, 1151, 641, 1153, 131, 643, 1663, 1667, 647, 1669, 137, 139, 1163, 653, 659, 1171, 149, 661, 151, 157, 1181, 1693, 673, 1697, 163, 1187, 677, 1699, 167, 1193, 683, 173, 1709, 1201, 179, 691, 181, 1721, 1723, 701, 1213, 191, 193, 1217, 197, 709, 199, 1223, 1733, 1229, 1741, 719, 1231, 211, 1747, 1237, 727, 1753, 733, 223, 1759, 1249, 227, 739, 229, 743, 233, 1259, 239, 751, 241, 1777, 757, 1783, 761, 251, 1787, 1277, 1789, 1279, 257, 769, 1283, 773, 263, 1289, 1801, 1291, 269, 271, 1297, 787, 1811, 277, 1301, 1303, 281, 283, 1307, 797, 1823, 293, 1319, 1831, 809, 1321, 811, 1327, 307, 821, 311, 823, 313, 1847, 827, 317, 829, 1861, 839, 331, 1867, 1871, 337, 1361, 1873, 853, 1877, 1367, 1879, 857, 347, 859, 349, 1373, 863, 353, 1889, 1381, 359, 877, 1901, 367, 881, 883, 1907, 373, 887, 1399, 1913, 379, 383, 1409, 389, 907, 1931, 397, 1933, 911, 1423, 401, 1427, 1429, 919, 409, 1433, 1949, 1439, 1951, 929, 419, 421, 1447, 937, 1451, 941, 1453, 431, 433, 947, 1459, 1973, 439, 953, 443, 1979, 1471, 449, 1987, 967, 457, 1481, 971, 1483, 461, 1993, 463, 1487, 977, 1489, 467, 1997, 1493, 1999, 983, 1499, 479, 991, 997, 487, 1511, 491, 1009, 499, 1523, 1013, 503, 1019, 509}\n"
     ]
    }
   ],
   "source": [
    "def is_prime(n):\n",
    "    if n < 2: return False\n",
    "    for i in range(2, int(n**0.5)+1):\n",
    "        if n % i == 0:\n",
    "            return False\n",
    "    return True\n",
    "\n",
    "primes = {x for x in range(10,2001) if is_prime(x)}\n",
    "print(primes)\n"
   ]
  },
  {
   "cell_type": "markdown",
   "id": "88f8b041",
   "metadata": {},
   "source": [
    "#### 3. Phát sinh ngẫu nhiên 2 tập hợp chứa các số nguyên trong khoảng (10,2000). (Số lượng phần tử của hai tập hợp có thể khác nhau). Tìm phần giao, hội, different và symmetric_different của hai tập hợp.\n",
    "* Hint: dùng import random ; random.randint"
   ]
  },
  {
   "cell_type": "code",
   "execution_count": 9,
   "id": "c7b9f466",
   "metadata": {},
   "outputs": [
    {
     "name": "stdout",
     "output_type": "stream",
     "text": [
      "Set1: {392, 1738, 747, 815, 1171, 1813, 438, 823, 665, 635}\n",
      "Set2: {96, 1184, 1410, 312, 551, 1439, 1512, 1745, 49, 23, 535, 1784, 1434, 1915, 1695}\n",
      "Giao: set()\n",
      "Hội: {1410, 392, 1738, 1784, 1745, 1171, 1813, 23, 535, 665, 1434, 1439, 96, 1184, 1695, 1915, 551, 1512, 747, 815, 49, 438, 823, 312, 635}\n",
      "Hiệu (set1 - set2): {392, 1738, 747, 815, 1171, 1813, 438, 823, 665, 635}\n",
      "Đối xứng: {1410, 392, 1171, 1813, 23, 535, 665, 1434, 1439, 1184, 1695, 551, 815, 49, 438, 823, 312, 1738, 1745, 96, 1512, 635, 747, 1784, 1915}\n"
     ]
    }
   ],
   "source": [
    "import random\n",
    "\n",
    "set1 = {random.randint(10,2000) for _ in range(10)}\n",
    "set2 = {random.randint(10,2000) for _ in range(15)}\n",
    "\n",
    "print(\"Set1:\", set1)\n",
    "print(\"Set2:\", set2)\n",
    "\n",
    "print(\"Giao:\", set1 & set2)\n",
    "print(\"Hội:\", set1 | set2)\n",
    "print(\"Hiệu (set1 - set2):\", set1 - set2)\n",
    "print(\"Đối xứng:\", set1 ^ set2)"
   ]
  },
  {
   "cell_type": "markdown",
   "id": "5e61b0e3",
   "metadata": {},
   "source": [
    "#### 4. Nhập vào một từ điển (giả sử các values là các số nguyên). In ra các value có giá trị khác nhau."
   ]
  },
  {
   "cell_type": "code",
   "execution_count": 10,
   "id": "db6537ff",
   "metadata": {},
   "outputs": [
    {
     "name": "stdout",
     "output_type": "stream",
     "text": [
      "Nhập số phần tử từ điển: 3\n",
      "Nhập key: 2\n",
      "Nhập value: 34\n",
      "Nhập key: 34\n",
      "Nhập value: 3\n",
      "Nhập key: 2\n",
      "Nhập value: 34\n",
      "Các value khác nhau: {34, 3}\n"
     ]
    }
   ],
   "source": [
    "d = {}\n",
    "n = int(input(\"Nhập số phần tử từ điển: \"))\n",
    "for i in range(n):\n",
    "    k = input(\"Nhập key: \")\n",
    "    v = int(input(\"Nhập value: \"))\n",
    "    d[k] = v\n",
    "\n",
    "print(\"Các value khác nhau:\", set(d.values()))\n"
   ]
  },
  {
   "cell_type": "markdown",
   "id": "48e99355",
   "metadata": {},
   "source": [
    "#### 5. Nhập vào một từ điển (giả sử các values là các số nguyên). In ra value có giá trị lớn nhất."
   ]
  },
  {
   "cell_type": "code",
   "execution_count": 12,
   "id": "91366f0d",
   "metadata": {},
   "outputs": [
    {
     "name": "stdout",
     "output_type": "stream",
     "text": [
      "Nhập số phần tử từ điển: 3\n",
      "Nhập key: 1\n",
      "Nhập value: 2\n",
      "Nhập key: 3\n",
      "Nhập value: 4\n",
      "Nhập key: 5\n",
      "Nhập value: 6\n",
      "Value lớn nhất: 6\n"
     ]
    }
   ],
   "source": [
    "d = {}\n",
    "n = int(input(\"Nhập số phần tử từ điển: \"))\n",
    "for i in range(n):\n",
    "    k = input(\"Nhập key: \")\n",
    "    v = int(input(\"Nhập value: \"))\n",
    "    d[k] = v\n",
    "\n",
    "max_value = max(d.values())\n",
    "print(\"Value lớn nhất:\", max_value)\n"
   ]
  },
  {
   "cell_type": "markdown",
   "id": "64699c7b",
   "metadata": {},
   "source": [
    "#### 6. Nhập vào một từ điển (giả sử các keys là các số nguyên). Tìm hai khóa có giá trị lớn nhất, lớn nhì."
   ]
  },
  {
   "cell_type": "code",
   "execution_count": 13,
   "id": "b9abbf1d",
   "metadata": {},
   "outputs": [
    {
     "name": "stdout",
     "output_type": "stream",
     "text": [
      "Nhập số phần tử từ điển: 3\n",
      "Nhập key (số nguyên): 1\n",
      "Nhập value: 2\n",
      "Nhập key (số nguyên): 3\n",
      "Nhập value: 4\n",
      "Nhập key (số nguyên): 5\n",
      "Nhập value: 6\n",
      "Khóa lớn nhất: 5\n",
      "Khóa lớn nhì: 3\n"
     ]
    }
   ],
   "source": [
    "d = {}\n",
    "n = int(input(\"Nhập số phần tử từ điển: \"))\n",
    "for i in range(n):\n",
    "    k = int(input(\"Nhập key (số nguyên): \"))\n",
    "    v = int(input(\"Nhập value: \"))\n",
    "    d[k] = v\n",
    "\n",
    "sorted_keys = sorted(d.keys(), reverse=True)\n",
    "print(\"Khóa lớn nhất:\", sorted_keys[0])\n",
    "print(\"Khóa lớn nhì:\", sorted_keys[1])\n"
   ]
  },
  {
   "cell_type": "markdown",
   "id": "b59f8c3b",
   "metadata": {},
   "source": [
    "### BT Bổ sung"
   ]
  },
  {
   "cell_type": "markdown",
   "id": "311a910d",
   "metadata": {},
   "source": [
    "#### 1. Cho biết kết quả in ra màn hình khi thực hiện các lệnh sau đây:\n"
   ]
  },
  {
   "cell_type": "code",
   "execution_count": 16,
   "id": "16c40a09",
   "metadata": {},
   "outputs": [
    {
     "name": "stdout",
     "output_type": "stream",
     "text": [
      "[0, 1, 0]\n",
      "[0, 1, 0]\n",
      "[2, 3]\n",
      "[]\n",
      "[2, 3, 5]\n"
     ]
    }
   ],
   "source": [
    "def A(list1):\n",
    "    list1.append(2*list1[0])\n",
    "    print(list1)\n",
    "def B(list2):\n",
    "    list2.append(2+list2[1])\n",
    "    list2 = []\n",
    "    print(list2)\n",
    "def C(list1,list2):\n",
    "    A(list1)\n",
    "    print(list1)\n",
    "    print(list2)\n",
    "    B(list2)\n",
    "    print(list2)\n",
    "\n",
    "a = [0,1]\n",
    "b = [2,3]\n",
    "C(a,b)"
   ]
  },
  {
   "cell_type": "markdown",
   "id": "0bcd5ce4",
   "metadata": {},
   "source": [
    "### Phân tích \n",
    "\n",
    "* Ban đầu: a = [0,1], b = [2,3]\n",
    "* C(a,b):\n",
    "\n",
    "#### Gọi A(a) → list1.append(2*list1[0]) = 2*0 = 0 → a = [0,1,0]\n",
    "#### In ra [0, 1, 0]\n",
    "\n",
    "#### print(list1) → [0,1,0]\n",
    "\n",
    "#### print(list2) → [2,3]\n",
    "\n",
    "#### B(b):\n",
    "\n",
    "* b.append(2+3)=5 → b = [2,3,5]\n",
    "\n",
    "* Sau đó list2 = [] (gán cục bộ) → in ra []\n",
    "\n",
    "#### print(list2) → vẫn là [2,3,5] (biến gốc b không bị mất)"
   ]
  },
  {
   "cell_type": "markdown",
   "id": "1f98727e",
   "metadata": {},
   "source": [
    "#### 2. Cho biết kết quả in ra màn hình khi thực hiện các lệnh sau đây:"
   ]
  },
  {
   "cell_type": "code",
   "execution_count": 17,
   "id": "c67d32e4",
   "metadata": {},
   "outputs": [
    {
     "name": "stdout",
     "output_type": "stream",
     "text": [
      "[2, 1]\n",
      "[3, 1]\n",
      "[1, 3, 10]\n",
      "[3]\n",
      "[[3], [3], [1, 3, 10]]\n"
     ]
    }
   ],
   "source": [
    "def myfunc(n): \n",
    "    M = list(range(n,0,-1))\n",
    "    P = M\n",
    "    print(M)\n",
    "    M[0] = n+1\n",
    "    print(P)\n",
    "    Q = P + [10]\n",
    "    Q.sort()\n",
    "    print(Q)\n",
    "    P.pop()\n",
    "    print(P)\n",
    "    return [P, M, Q]\n",
    "\n",
    "print(myfunc(2))\n"
   ]
  },
  {
   "cell_type": "markdown",
   "id": "a8078fea",
   "metadata": {},
   "source": [
    "#### Phân tích\n",
    "* n=2 → M = [2,1]. In [2,1]\n",
    "* P = M (cùng tham chiếu)\n",
    "* M[0] = 3 → M = [3,1], nên P = [3,1]. In [3,1]\n",
    "* Q = P + [10] = [3,1,10] → sort → [1,3,10]. In [1,3,10]\n",
    "* P.pop() → xóa phần tử cuối 1 → P = [3] → đồng thời M = [3]. In [3]\n",
    "* return [P,M,Q] = [[3], [3], [1,3,10]]"
   ]
  },
  {
   "cell_type": "markdown",
   "id": "a40797f4",
   "metadata": {},
   "source": [
    "#### 1) Cho một list chứa các tuple (mỗi tuple chứa 3 thành phần (tên loại trái cây, giá tiền, số lượng trái cây), trong đó tên loại trái cây là một chuỗi là các chữ in thường, giá tiền là số thực tính theo đơn vị $, số lượng trái cây là số nguyên dương)\n",
    "##### Ví dụ: input list như sau: L = [('lemon', 0.45, 15), ('apple', 2.5, 3), ('peach', 4.3, 10), ('banana', 0.6, 5)]\n",
    "* a) Viết chương trình tạo ra một list chứa tên của tất cả các loại trái cây trong L thỏa điều kiện các tên đều là chữ in hoa và được sắp xếp tăng theo thứ tự từ điển\n",
    "##### Ví dụ: output như sau: ['APPLE', 'BANANA', 'LEMON', 'PEACH']\n",
    "* b) Viết chương trình tính tổng số lượng tất cả các loại trái cây có trong list đã cho\n",
    "##### Ví dụ: output là 15+3+10+5 bằng 33\n",
    "* c) Viết chương trình sắp xếp list của các tuple theo thứ tự giảm dần về số lượng trái cây trong tuple\n",
    "##### Ví dụ: output là [('lemon', 0.45, 15), ('peach', 4.3, 10), ('banana', 0.6, 5), ('apple', 2.5, 3)]"
   ]
  },
  {
   "cell_type": "code",
   "execution_count": null,
   "id": "aaec7bfa",
   "metadata": {},
   "outputs": [],
   "source": []
  },
  {
   "cell_type": "markdown",
   "id": "207051f3",
   "metadata": {},
   "source": [
    "#### 2) Cho một list chứa các chuỗi (mỗi chuỗi gồm 3 thành phần cách nhau bởi dấu phẩy có dạng như sau: \"<Tên Khoa>, <Khóa học>, <Số lượng sinh viên>\", trong đó Tên Khoa là thông tin của một Khoa biễu diễn dạng chuỗi, Khóa học là thông tin một khóa học biễu diễn dạng số nguyên dương trong chuỗi, Số lượng sinh viên là biễu diễn dạng số nguyên dương trong chuỗi). Giả sử rằng Tên Khoa không xuất hiện trùng trong các chuỗi trong list\n",
    "Ví dụ input list L như sau: L = [\"CNTT,20,600\", \"Ly,18,200\", \"Toan,19,100\", \"Hoa,19,150\"]\n",
    "* a) Viết chương trình tạo ra một từ điển trong đó các khóa (key, dạng chuỗi) của từ điển là Tên Khoa của các chuỗi trong list đã cho; các giá trị (value, dạng số nguyên) tương ứng là số lượng sinh viên tương ứng của mỗi Khoa\n",
    "Ví dụ: ouput từ điển D là {'CNTT': 600, 'Ly': 200, 'Toan': 100,'Hoa': 150}\n",
    "* b) Viết chương trình tính tổng tất cả các giá trị (value) trong từ điển của câu (a)\n",
    "Ví dụ: tổng là 1050\n",
    "* c) In ra khóa trong từ điển tìm được ở câu (a) có giá trị (value) lớn nhất.\n",
    "Ví dụ: khóa với giá trị lớn nhât là CNTT"
   ]
  },
  {
   "cell_type": "code",
   "execution_count": null,
   "id": "9e242640",
   "metadata": {},
   "outputs": [],
   "source": []
  },
  {
   "cell_type": "code",
   "execution_count": null,
   "id": "a6e7bf5e",
   "metadata": {},
   "outputs": [],
   "source": []
  }
 ],
 "metadata": {
  "kernelspec": {
   "display_name": "Python (khoacai)",
   "language": "python",
   "name": "cits4012cuakhoa"
  },
  "language_info": {
   "codemirror_mode": {
    "name": "ipython",
    "version": 3
   },
   "file_extension": ".py",
   "mimetype": "text/x-python",
   "name": "python",
   "nbconvert_exporter": "python",
   "pygments_lexer": "ipython3",
   "version": "3.8.10"
  }
 },
 "nbformat": 4,
 "nbformat_minor": 5
}
