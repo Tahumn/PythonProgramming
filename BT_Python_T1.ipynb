{
 "cells": [
  {
   "cell_type": "markdown",
   "id": "8b8e44a7",
   "metadata": {},
   "source": [
    "### Work 1"
   ]
  },
  {
   "cell_type": "markdown",
   "id": "ecc40c71",
   "metadata": {},
   "source": [
    "#### 1. Bạn có thể tính diện tích toàn phần của một khối lập phương nếu biết độ dài một cạnh. Viết một chương trình nhận độ dài cạnh (một số nguyên) làm đầu vào và in ra diện tích toàn phần của khối lập phương."
   ]
  },
  {
   "cell_type": "code",
   "execution_count": 12,
   "id": "881597d7",
   "metadata": {},
   "outputs": [
    {
     "name": "stdout",
     "output_type": "stream",
     "text": [
      "Nhập vào độ dài cạnh khối lập phương: 2\n",
      "Diện tích toàn phần là:  24.0\n"
     ]
    }
   ],
   "source": [
    "\n",
    "a = float(input('Nhập vào độ dài cạnh khối lập phương: '))\n",
    "b = 6*a*a\n",
    "print('Diện tích toàn phần là: ', b)"
   ]
  },
  {
   "cell_type": "markdown",
   "id": "85f50790",
   "metadata": {},
   "source": [
    "#### 2. Cửa hàng Five Star Retro Video cho thuê băng VHS và đĩa DVD cho những người sành điệu vốn thích mua đĩa than LP. Cửa hàng cho thuê phim mới với giá 3.00 USD/đêm và phim cũ với giá 2.00 USD/đêm. Hãy viết một chương trình để nhân viên có thể sử dụng nhằm tính tổng tiền thuê phim cho một khách hàng. Chương trình sẽ yêu cầu nhập số lượng từng loại phim và in ra tổng chi phí."
   ]
  },
  {
   "cell_type": "code",
   "execution_count": null,
   "id": "a4e4c734",
   "metadata": {},
   "outputs": [],
   "source": [
    "# Bài 2\n",
    "new_videos = int(input(\"Nhập số lượng phim mới: \"))\n",
    "old_videos = int(input(\"Nhập số lượng phim cũ: \"))\n",
    "total_cost = new_videos * 3.0 + old_videos * 2.0\n",
    "print(\"Tổng chi phí thuê phim là: $\", total_cost)\n"
   ]
  },
  {
   "cell_type": "markdown",
   "id": "bdca11a9",
   "metadata": {},
   "source": [
    "#### 3. Viết một chương trình nhận bán kính của một hình cầu (một số thực) làm đầu vào, sau đó in ra: đường kính, chu vi (của đường tròn lớn nhất), diện tích bề mặt, thể tích của hình cầu."
   ]
  },
  {
   "cell_type": "code",
   "execution_count": null,
   "id": "4a399521",
   "metadata": {},
   "outputs": [],
   "source": [
    "# Bài 3\n",
    "import math\n",
    "\n",
    "r = float(input(\"Nhập bán kính hình cầu: \"))\n",
    "diameter = 2 * r\n",
    "circumference = 2 * math.pi * r\n",
    "surface_area = 4 * math.pi * r**2\n",
    "volume = (4/3) * math.pi * r**3\n",
    "\n",
    "print(\"Đường kính:\", diameter)\n",
    "print(\"Chu vi:\", circumference)\n",
    "print(\"Diện tích bề mặt:\", surface_area)\n",
    "print(\"Thể tích:\", volume)\n"
   ]
  },
  {
   "cell_type": "markdown",
   "id": "8dfa7fdf",
   "metadata": {},
   "source": [
    "#### 4. Động lượng của một vật bằng khối lượng nhân với vận tốc. Viết một chương trình nhận khối lượng (kg) và vận tốc (m/s) của vật làm đầu vào, sau đó in ra động lượng của nó."
   ]
  },
  {
   "cell_type": "code",
   "execution_count": null,
   "id": "662a16e0",
   "metadata": {},
   "outputs": [],
   "source": [
    "# Bài 4\n",
    "mass = float(input(\"Nhập khối lượng (kg): \"))\n",
    "velocity = float(input(\"Nhập vận tốc (m/s): \"))\n",
    "momentum = mass * velocity\n",
    "print(\"Động lượng của vật là:\", momentum)\n"
   ]
  },
  {
   "cell_type": "markdown",
   "id": "8ffd37cc",
   "metadata": {},
   "source": [
    "#### 5. Động năng của một vật chuyển động được cho bởi công thức:  $$ KE = \\frac{1}{2} m v^2 $$ Trong đó m là khối lượng, v là vận tốc. Hãy sửa đổi chương trình ở Câu 4 để in ra cả động năng và động lượng của vật."
   ]
  },
  {
   "cell_type": "code",
   "execution_count": null,
   "id": "b4e5de22",
   "metadata": {},
   "outputs": [],
   "source": [
    "# Bài 5\n",
    "mass = float(input(\"Nhập khối lượng (kg): \"))\n",
    "velocity = float(input(\"Nhập vận tốc (m/s): \"))\n",
    "\n",
    "momentum = mass * velocity\n",
    "kinetic_energy = 0.5 * mass * velocity**2\n",
    "\n",
    "print(\"Động lượng của vật:\", momentum)\n",
    "print(\"Động năng của vật:\", kinetic_energy)\n"
   ]
  },
  {
   "cell_type": "markdown",
   "id": "c34abb6e",
   "metadata": {},
   "source": [
    "#### 6. Viết một chương trình tính và in ra số phút trong một năm."
   ]
  },
  {
   "cell_type": "code",
   "execution_count": 15,
   "id": "ea09b990",
   "metadata": {},
   "outputs": [
    {
     "name": "stdout",
     "output_type": "stream",
     "text": [
      "Số phút trong một năm là: 525600\n"
     ]
    }
   ],
   "source": [
    "# Bài 6\n",
    "minutes_in_year = 365 * 24 * 60\n",
    "print(\"Số phút trong một năm là:\", minutes_in_year)\n"
   ]
  },
  {
   "cell_type": "markdown",
   "id": "a03e9e73",
   "metadata": {},
   "source": [
    "#### 7. Tốc độ ánh sáng là 3 × 10^8 mét/giây. Một năm ánh sáng là quãng đường ánh sáng đi được trong một năm. Viết một chương trình tính toán và hiển thị giá trị của một năm ánh sáng."
   ]
  },
  {
   "cell_type": "code",
   "execution_count": null,
   "id": "dd3ae1ea",
   "metadata": {},
   "outputs": [],
   "source": [
    "# Bài 7\n",
    "speed_of_light = 3 * 10**8  # m/s\n",
    "seconds_in_year = 365 * 24 * 60 * 60\n",
    "light_year = speed_of_light * seconds_in_year\n",
    "print(\"Một năm ánh sáng là (mét):\", light_year)"
   ]
  },
  {
   "cell_type": "markdown",
   "id": "65953c50",
   "metadata": {},
   "source": [
    "#### 8. Viết một chương trình nhận vào số km và in ra số hải lý tương ứng. Dùng các xấp xỉ sau:1 km = 1/10,000 khoảng cách từ Bắc Cực đến xích đạo. Từ Bắc Cực đến xích đạo có 90 độ, mỗi độ gồm 60 phút cung. 1 hải lý = 1 phút cung."
   ]
  },
  {
   "cell_type": "code",
   "execution_count": null,
   "id": "5aa2335a",
   "metadata": {},
   "outputs": [],
   "source": [
    "# Bài 8\n",
    "km = float(input(\"Nhập số km: \"))\n",
    "\n",
    "# Tính số km từ Bắc Cực đến xích đạo\n",
    "earth_distance_km = 10000  \n",
    "\n",
    "# 90 độ * 60 phút = 5400 phút cung\n",
    "minutes_of_arc = 90 * 60  \n",
    "\n",
    "# 1 phút cung = số km tương ứng\n",
    "km_per_nautical_mile = earth_distance_km / minutes_of_arc  \n",
    "\n",
    "# Đổi km sang hải lý\n",
    "nautical_miles = km / km_per_nautical_mile\n",
    "\n",
    "print(\"Số hải lý tương ứng là:\", nautical_miles)\n"
   ]
  },
  {
   "cell_type": "markdown",
   "id": "121b3ffa",
   "metadata": {},
   "source": [
    "#### 9. Tổng lương tuần của một nhân viên bằng: lương giờ * số giờ làm bình thường + tiền làm thêm Trong đó tiền làm thêm = số giờ làm thêm × 1.5 × lương giờ. Viết một chương trình nhận vào lương theo giờ, số giờ làm bình thường, số giờ làm thêm, rồi in ra tổng lương tuần của nhân viên."
   ]
  },
  {
   "cell_type": "code",
   "execution_count": null,
   "id": "72006c45",
   "metadata": {},
   "outputs": [],
   "source": [
    "# Bài 9\n",
    "hourly_wage = float(input(\"Nhập lương theo giờ: \"))\n",
    "regular_hours = float(input(\"Nhập số giờ làm bình thường: \"))\n",
    "overtime_hours = float(input(\"Nhập số giờ làm thêm: \"))\n",
    "\n",
    "total_pay = (hourly_wage * regular_hours) + (overtime_hours * 1.5 * hourly_wage)\n",
    "print(\"Tổng lương tuần của nhân viên là:\", total_pay)\n"
   ]
  },
  {
   "cell_type": "markdown",
   "id": "1c02d0e5",
   "metadata": {},
   "source": [
    "### Work slide"
   ]
  },
  {
   "cell_type": "markdown",
   "id": "0511f393",
   "metadata": {},
   "source": [
    "#### BT: Xem a có phải số nguyên tố không"
   ]
  },
  {
   "cell_type": "code",
   "execution_count": 25,
   "id": "307e7c44",
   "metadata": {},
   "outputs": [
    {
     "name": "stdout",
     "output_type": "stream",
     "text": [
      "Nhập số nguyên n: 5\n",
      "Nguyên tố: True\n"
     ]
    }
   ],
   "source": [
    "import math\n",
    "\n",
    "def is_prime(n):\n",
    "    if n < 2:\n",
    "        return False\n",
    "    for i in range(2, n):\n",
    "        if n % i == 0:\n",
    "            return False\n",
    "    return True\n",
    "\n",
    "n = int(input(\"Nhập số nguyên n: \"))\n",
    "print(\"Nguyên tố:\", is_prime(n))\n"
   ]
  },
  {
   "cell_type": "markdown",
   "id": "c2aade11",
   "metadata": {},
   "source": [
    "#### BT: In ra số chẵn trong khoảng (M,N)"
   ]
  },
  {
   "cell_type": "code",
   "execution_count": 31,
   "id": "347f67e4",
   "metadata": {},
   "outputs": [
    {
     "name": "stdout",
     "output_type": "stream",
     "text": [
      "Nhập M: 2\n",
      "Nhập N: 5\n",
      "2\n",
      "4\n"
     ]
    }
   ],
   "source": [
    "M = int(input(\"Nhập M: \"))\n",
    "N = int(input(\"Nhập N: \"))\n",
    "\n",
    "if N < M:\n",
    "    print(\"Không có số chẵn\")\n",
    "else:\n",
    "    for i in range(M + 1, N):\n",
    "        if i % 2 == 0:\n",
    "            print(i)\n"
   ]
  },
  {
   "cell_type": "markdown",
   "id": "88fa57c3",
   "metadata": {},
   "source": [
    "#### BT: Viết hàm tìm độ dài của 1 chuỗi (ko dùng len())"
   ]
  },
  {
   "cell_type": "code",
   "execution_count": 34,
   "id": "e4609f8b",
   "metadata": {},
   "outputs": [
    {
     "name": "stdout",
     "output_type": "stream",
     "text": [
      "Độ dài chuỗi: 24\n"
     ]
    }
   ],
   "source": [
    "def my_len(s):\n",
    "    count = 0\n",
    "    for _ in s:\n",
    "        count += 1\n",
    "    return count\n",
    "\n",
    "text = \"Hello Python programming\"\n",
    "\n",
    "print(\"Độ dài chuỗi:\", my_len(text))"
   ]
  },
  {
   "cell_type": "markdown",
   "id": "dd25069e",
   "metadata": {},
   "source": [
    "#### BT: Viết chương trình đếm số lượng các từ trong một chuỗi"
   ]
  },
  {
   "cell_type": "code",
   "execution_count": 35,
   "id": "b11bf6de",
   "metadata": {},
   "outputs": [
    {
     "name": "stdout",
     "output_type": "stream",
     "text": [
      "Số từ trong chuỗi: 3\n"
     ]
    }
   ],
   "source": [
    "def count_words(s):\n",
    "    words = s.split()\n",
    "    count = 0\n",
    "    for _ in words:\n",
    "        count += 1\n",
    "    return count\n",
    "\n",
    "text = \"Hello Python programming\"\n",
    "print(\"Số từ trong chuỗi:\", count_words(text))"
   ]
  },
  {
   "cell_type": "markdown",
   "id": "0640acf6",
   "metadata": {},
   "source": [
    "#### BT: Viết hàm đếm số lượng nguyên âm (a e i o u), phụ âm có trong chuỗi"
   ]
  },
  {
   "cell_type": "code",
   "execution_count": 36,
   "id": "5c2047ee",
   "metadata": {},
   "outputs": [
    {
     "name": "stdout",
     "output_type": "stream",
     "text": [
      "Độ dài chuỗi: 24\n",
      "Số nguyên âm: 6\n",
      "Số phụ âm: 16\n"
     ]
    }
   ],
   "source": [
    "def count_vowels_consonants(s):\n",
    "    vowels = \"aeiouAEIOU\"\n",
    "    vowel_count = 0\n",
    "    consonant_count = 0\n",
    "    \n",
    "    for ch in s:\n",
    "        if ch.isalpha():  # chỉ xét chữ cái\n",
    "            if ch in vowels:\n",
    "                vowel_count += 1\n",
    "            else:\n",
    "                consonant_count += 1\n",
    "    return vowel_count, consonant_count\n",
    "\n",
    "text = \"Hello Python programming\"\n",
    "\n",
    "print(\"Độ dài chuỗi:\", my_len(text))\n",
    "\n",
    "v, c = count_vowels_consonants(text)\n",
    "print(\"Số nguyên âm:\", v)\n",
    "print(\"Số phụ âm:\", c)\n"
   ]
  },
  {
   "cell_type": "markdown",
   "id": "9a29a141",
   "metadata": {},
   "source": [
    "### Work 2"
   ]
  },
  {
   "cell_type": "markdown",
   "id": "2c7a0da7",
   "metadata": {},
   "source": [
    "#### 1. Viết chương trình nhập vào một số nguyên n. Kiểm tra xem số đó có phải là số nguyên tố, số đối xứng, số hoàn chỉnh, số chính phương hay không?"
   ]
  },
  {
   "cell_type": "code",
   "execution_count": 2,
   "id": "24da8047",
   "metadata": {},
   "outputs": [
    {
     "name": "stdout",
     "output_type": "stream",
     "text": [
      "Nhập số nguyên n: 3\n",
      "Nguyên tố: True\n",
      "Đối xứng: True\n",
      "Hoàn chỉnh: False\n",
      "Chính phương: False\n"
     ]
    }
   ],
   "source": [
    "import math\n",
    "\n",
    "def is_prime(n):\n",
    "    if n < 2: return False\n",
    "    for i in range(2, int(math.sqrt(n)) + 1):\n",
    "        if n % i == 0:\n",
    "            return False\n",
    "    return True\n",
    "\n",
    "def is_palindrome(n):\n",
    "    return str(n) == str(n)[::-1]\n",
    "\n",
    "def is_perfect(n):\n",
    "    return n > 1 and sum(i for i in range(1, n) if n % i == 0) == n\n",
    "\n",
    "def is_square(n):\n",
    "    return int(math.sqrt(n))**2 == n\n",
    "\n",
    "n = int(input(\"Nhập số nguyên n: \"))\n",
    "print(\"Nguyên tố:\", is_prime(n))\n",
    "print(\"Đối xứng:\", is_palindrome(n))\n",
    "print(\"Hoàn chỉnh:\", is_perfect(n))\n",
    "print(\"Chính phương:\", is_square(n))\n"
   ]
  },
  {
   "cell_type": "markdown",
   "id": "85ef1729",
   "metadata": {},
   "source": [
    "#### 2. Viết chương trình nhập vào hai số M, N. In ra tất cả các số nguyên tố, số đối xứng, số hoàn chỉnh, số chính phương trong khoảng [M,N] (nếu có)"
   ]
  },
  {
   "cell_type": "code",
   "execution_count": 4,
   "id": "a5b9e1a2",
   "metadata": {},
   "outputs": [
    {
     "name": "stdout",
     "output_type": "stream",
     "text": [
      "Nhập M: 2\n",
      "Nhập N: 3\n",
      "2 là số nguyên tố\n",
      "2 là số đối xứng\n",
      "3 là số nguyên tố\n",
      "3 là số đối xứng\n"
     ]
    }
   ],
   "source": [
    "M = int(input(\"Nhập M: \"))\n",
    "N = int(input(\"Nhập N: \"))\n",
    "for x in range(M, N+1):\n",
    "    if is_prime(x): print(x, \"là số nguyên tố\")\n",
    "    if is_palindrome(x): print(x, \"là số đối xứng\")\n",
    "    if is_perfect(x): print(x, \"là số hoàn chỉnh\")\n",
    "    if is_square(x): print(x, \"là số chính phương\")\n"
   ]
  },
  {
   "cell_type": "markdown",
   "id": "a3c97423",
   "metadata": {},
   "source": [
    "#### 3. Tìm ước chung lớn nhất và bội số chung nhỏ nhất của hai số a và b\n",
    "* a. không dùng đệ quy \n",
    "* b. dùng đệ quy "
   ]
  },
  {
   "cell_type": "code",
   "execution_count": 5,
   "id": "0e63d2a4",
   "metadata": {},
   "outputs": [
    {
     "name": "stdout",
     "output_type": "stream",
     "text": [
      "Nhập a và b: 2 3\n",
      "UCLN: 1\n",
      "BCNN: 6\n"
     ]
    }
   ],
   "source": [
    "# Ko đệ quy\n",
    "\n",
    "def gcd(a, b):\n",
    "    while b:\n",
    "        a, b = b, a % b\n",
    "    return a\n",
    "\n",
    "def lcm(a, b):\n",
    "    return a * b // gcd(a, b)\n",
    "\n",
    "a, b = map(int, input(\"Nhập a và b: \").split())\n",
    "print(\"UCLN:\", gcd(a, b))\n",
    "print(\"BCNN:\", lcm(a, b))\n"
   ]
  },
  {
   "cell_type": "code",
   "execution_count": 6,
   "id": "fa305d8b",
   "metadata": {},
   "outputs": [
    {
     "name": "stdout",
     "output_type": "stream",
     "text": [
      "UCLN: 1\n",
      "BCNN: 6\n"
     ]
    }
   ],
   "source": [
    "# Dùng đệ quy\n",
    "\n",
    "def gcd_recursive(a, b):\n",
    "    return a if b == 0 else gcd_recursive(b, a % b)\n",
    "\n",
    "def lcm_recursive(a, b):\n",
    "    return a * b // gcd_recursive(a, b)\n",
    "\n",
    "print(\"UCLN:\", gcd_recursive(a, b))\n",
    "print(\"BCNN:\", lcm_recursive(a, b))\n"
   ]
  },
  {
   "cell_type": "markdown",
   "id": "12f399c1",
   "metadata": {},
   "source": [
    "#### 4. Liệt kê tất cả các số nguyên tố nhỏ hơn N ( N nhập từ bàn phím)"
   ]
  },
  {
   "cell_type": "code",
   "execution_count": 7,
   "id": "41cd7bd2",
   "metadata": {},
   "outputs": [
    {
     "name": "stdout",
     "output_type": "stream",
     "text": [
      "Nhập N: 4\n",
      "2 3 "
     ]
    }
   ],
   "source": [
    "N = int(input(\"Nhập N: \"))\n",
    "for i in range(2, N):\n",
    "    if is_prime(i):\n",
    "        print(i, end=\" \")"
   ]
  },
  {
   "cell_type": "markdown",
   "id": "6c32fd79",
   "metadata": {},
   "source": [
    "#### 5. In ra màn hình M số nguyên tố đầu tiên."
   ]
  },
  {
   "cell_type": "code",
   "execution_count": 3,
   "id": "7386131e",
   "metadata": {},
   "outputs": [
    {
     "name": "stdout",
     "output_type": "stream",
     "text": [
      "Nhập M: 4\n",
      "2 3 5 7 "
     ]
    }
   ],
   "source": [
    "M = int(input(\"Nhập M: \"))\n",
    "count, num = 0, 2\n",
    "while count < M:\n",
    "    if is_prime(num):\n",
    "        print(num, end=\" \")\n",
    "        count += 1\n",
    "    num += 1\n"
   ]
  },
  {
   "cell_type": "markdown",
   "id": "00da0bdb",
   "metadata": {},
   "source": [
    "#### 6. Tìm tất cả các số chia hết cho 7 nhưng không phải bội số của 5, nằm trong đoạn [99;999] (tính cả 99 và 999)"
   ]
  },
  {
   "cell_type": "code",
   "execution_count": null,
   "id": "7d6744b5",
   "metadata": {},
   "outputs": [],
   "source": [
    "for i in range(99, 1000):\n",
    "    if i % 7 == 0 and i % 5 != 0:\n",
    "        print(i, end=\" \")\n"
   ]
  },
  {
   "cell_type": "markdown",
   "id": "34149691",
   "metadata": {},
   "source": [
    "#### 7. Tìm số đầu tiên chia hết cho 9 và chia hết cho 7 nằm trong đoạn [M,N]"
   ]
  },
  {
   "cell_type": "code",
   "execution_count": 7,
   "id": "bb883922",
   "metadata": {},
   "outputs": [
    {
     "name": "stdout",
     "output_type": "stream",
     "text": [
      "Nhập M và N: 1 90\n",
      "Số cần tìm: 63\n"
     ]
    }
   ],
   "source": [
    "M, N = map(int, input(\"Nhập M và N: \").split())\n",
    "found = False\n",
    "for i in range(M, N+1):\n",
    "    if i % 63 == 0:\n",
    "        print(\"Số cần tìm:\", i)\n",
    "        found = True\n",
    "        break\n",
    "if not found:\n",
    "    print(\"Không có số thỏa trong khoảng.\")\n"
   ]
  },
  {
   "cell_type": "markdown",
   "id": "781d454d",
   "metadata": {},
   "source": [
    "#### 8. Nhập một số nguyên, đếm xem số đó có bao nhiêu chữ số và tính tổng các chữ số."
   ]
  },
  {
   "cell_type": "code",
   "execution_count": null,
   "id": "3f07ac2e",
   "metadata": {},
   "outputs": [],
   "source": [
    "n = int(input(\"Nhập số nguyên: \"))\n",
    "count, total = 0, 0\n",
    "x = abs(n)\n",
    "while x > 0:\n",
    "    total += x % 10\n",
    "    count += 1\n",
    "    x //= 10\n",
    "print(\"Số chữ số:\", count)\n",
    "print(\"Tổng các chữ số:\", total)\n"
   ]
  },
  {
   "cell_type": "markdown",
   "id": "100eaeec",
   "metadata": {},
   "source": [
    "#### Bài 9: Tính lũy thừa nhanh \\(a^n\\) dùng đệ quy và chia để trị (Fast Power)\n",
    "\n",
    "**Công thức**\n",
    "\n",
    "- Nếu \\(n\\) chẵn:\n",
    "\n",
    "$$\n",
    "a^n \\;=\\; \\left(a^{\\frac{n}{2}}\\right)\\times\\left(a^{\\frac{n}{2}}\\right)\n",
    "$$\n",
    "\n",
    "- Nếu \\(n\\) lẻ:\n",
    "\n",
    "$$\n",
    "a^n \\;=\\; a \\times \\left(a^{\\left\\lfloor \\frac{n}{2} \\right\\rfloor}\\right) \\times \\left(a^{\\left\\lfloor \\frac{n}{2} \\right\\rfloor}\\right)\n",
    "$$\n",
    "\n",
    "> Lưu ý: trong code ta thường dùng phép chia nguyên `n // 2`, nên không cần viết dấu floor khi hiện thực.\n",
    "\n",
    "**Ví dụ**\n",
    "\n",
    "- Với \\(a = 2,\\, n = 9\\):\n",
    "\n",
    "$$\n",
    "2^9 = 2 \\times (2^4) \\times (2^4)\n",
    "$$\n",
    "\n",
    "- Với \\(a = 2,\\, n = 8\\):\n",
    "\n",
    "$$\n",
    "2^8 = (2^4) \\times (2^4)\n",
    "$$\n"
   ]
  },
  {
   "cell_type": "code",
   "execution_count": null,
   "id": "feea4b37",
   "metadata": {},
   "outputs": [],
   "source": [
    "def fast_power(a, n):\n",
    "    if n == 0: return 1\n",
    "    half = fast_power(a, n // 2)\n",
    "    if n % 2 == 0:\n",
    "        return half * half\n",
    "    else:\n",
    "        return a * half * half\n",
    "\n",
    "a = int(input(\"Nhập a: \"))\n",
    "n = int(input(\"Nhập n: \"))\n",
    "print(f\"{a}^{n} =\", fast_power(a, n))\n"
   ]
  },
  {
   "cell_type": "markdown",
   "id": "9839a17a",
   "metadata": {},
   "source": [
    "#### 10. Viết chương trình nhập vào một số nguyên dương n. In ra từng chữ số trong n. Yêu cầu không dùng các hàm trong xử lý chuỗi\n"
   ]
  },
  {
   "cell_type": "code",
   "execution_count": null,
   "id": "688fe6b6",
   "metadata": {},
   "outputs": [],
   "source": [
    "n = int(input(\"Nhập số nguyên dương n: \"))\n",
    "\n",
    "digits = []\n",
    "while n > 0:\n",
    "    digits.append(n % 10)\n",
    "    n //= 10\n",
    "\n",
    "for d in reversed(digits):\n",
    "    print(d)\n"
   ]
  },
  {
   "cell_type": "markdown",
   "id": "4e3b929a",
   "metadata": {},
   "source": [
    "### Work 3"
   ]
  },
  {
   "cell_type": "markdown",
   "id": "50908635",
   "metadata": {},
   "source": [
    "#### 1. Giả sử chuỗi s = “pythonfile.py”. Kiểm tra kết quả các lệnh sau:\n",
    "* a. s[2]\n",
    "* b. s[-1]\n",
    "* c. len(s)\n",
    "* d. s[0:7]\n",
    "* e. Viết lệnh trích chuỗi con “file” từ s\n",
    "* f. Viết lệnh trích trích chuỗi con “.py” từ s\n",
    "* g. Viết vòng lặp in chuỗi theo thứ tự ngược lại"
   ]
  },
  {
   "cell_type": "code",
   "execution_count": null,
   "id": "cf51b00d",
   "metadata": {},
   "outputs": [],
   "source": [
    "s = \"pythonfile.py\"\n",
    "\n",
    "# a. Ký tự ở vị trí 2 (chỉ số bắt đầu từ 0)\n",
    "print(\"a.\", s[2])       # t\n",
    "\n",
    "# b. Ký tự cuối cùng\n",
    "print(\"b.\", s[-1])      # y\n",
    "\n",
    "# c. Độ dài chuỗi\n",
    "print(\"c.\", len(s))     # 13\n",
    "\n",
    "# d. Chuỗi con từ 0 đến 6\n",
    "print(\"d.\", s[0:7])     # pythonf\n",
    "\n",
    "# e. Trích \"file\"\n",
    "print(\"e.\", s[6:10])    # file\n",
    "\n",
    "# f. Trích \".py\"\n",
    "print(\"f.\", s[-3:])     # .py\n",
    "\n",
    "# g. In chuỗi theo thứ tự ngược lại\n",
    "print(\"g.\", s[::-1])    # yp.elifnohtyp\n"
   ]
  },
  {
   "cell_type": "markdown",
   "id": "40e3a07c",
   "metadata": {},
   "source": [
    "#### 2. Viết lệnh chuyển đổi các yêu cầu sau đây\n",
    "* a. Chuyển 11001 ở hệ nhị phân sang decimal\n",
    "* b. Chuyển 47 ở hệ decimal sang binary\n",
    "* c. Chuyển AF1 hệ hexadecimal sang decimal\n",
    "* d. Chuyển 127 ở hệ octal sang binary"
   ]
  },
  {
   "cell_type": "code",
   "execution_count": null,
   "id": "eaa4afd6",
   "metadata": {},
   "outputs": [],
   "source": [
    "# a. Nhị phân -> thập phân\n",
    "print(\"a.\", int(\"11001\", 2))  # 25\n",
    "\n",
    "# b. Thập phân -> nhị phân\n",
    "print(\"b.\", bin(47))          # 0b101111\n",
    "\n",
    "# c. Hex -> thập phân\n",
    "print(\"c.\", int(\"AF1\", 16))   # 2801\n",
    "\n",
    "# d. Bát phân -> nhị phân\n",
    "print(\"d.\", bin(int(\"127\", 8)))  # 0b1010111\n"
   ]
  },
  {
   "cell_type": "markdown",
   "id": "73bb947a",
   "metadata": {},
   "source": [
    "#### 1. Nhập vào một chuỗi (mỗi từ cách nhau bởi một khoảng trắng). Tách chuỗi thành các từ và in ra màn hình theo thứ tự từ điển.\n",
    "#### Ví dụ : s = ‘lap trinh python’ . In ra từng từ theo thứ tự: ‘lap’ , ‘python’, ‘trinh’"
   ]
  },
  {
   "cell_type": "code",
   "execution_count": 8,
   "id": "78d15d1b",
   "metadata": {},
   "outputs": [
    {
     "name": "stdout",
     "output_type": "stream",
     "text": [
      "Nhập một chuỗi: Hello My Name Is Nhu\n",
      "['Hello', 'Is', 'My', 'Name', 'Nhu']\n"
     ]
    }
   ],
   "source": [
    "# Nhập chuỗi từ người dùng\n",
    "s = input(\"Nhập một chuỗi: \")\n",
    "words = s.split()\n",
    "words.sort()\n",
    "\n",
    "print(words)\n"
   ]
  },
  {
   "cell_type": "markdown",
   "id": "1ef1ef6a",
   "metadata": {},
   "source": [
    "#### 2. Nhập vào chuỗi các số nhị phân cách nhau bởi dấu phẩy, In ra các giá trị trong hệ thập phân tương ứng.\n",
    "#### Ví dụ: = ‘000,111,101’. In ra màn hình: 0, 7, 5"
   ]
  },
  {
   "cell_type": "code",
   "execution_count": 10,
   "id": "d23cbc1e",
   "metadata": {},
   "outputs": [
    {
     "name": "stdout",
     "output_type": "stream",
     "text": [
      "Nhập chuỗi nhị phân (cách nhau bằng dấu ,): 000,111,101\n",
      "[0, 7, 5]\n"
     ]
    }
   ],
   "source": [
    "# Nhập chuỗi nhị phân từ người dùng\n",
    "s = input(\"Nhập chuỗi nhị phân (cách nhau bằng dấu ,): \")\n",
    "\n",
    "# Tách chuỗi theo dấu phẩy\n",
    "binaries = s.split(\",\")\n",
    "\n",
    "# Chuyển từng chuỗi nhị phân sang số thập phân\n",
    "decimals = [int(b, 2) for b in binaries]\n",
    "\n",
    "print(decimals)\n",
    "\n"
   ]
  },
  {
   "cell_type": "markdown",
   "id": "f88777c9",
   "metadata": {},
   "source": [
    "#### 3. Nhập vào một chuỗi, đếm số lần xuất hiện của các ký tự (là chữ cái) trong chuỗi."
   ]
  },
  {
   "cell_type": "code",
   "execution_count": 11,
   "id": "74121012",
   "metadata": {},
   "outputs": [
    {
     "name": "stdout",
     "output_type": "stream",
     "text": [
      "Nhập chuỗi : Hello World 123\n",
      "{'H': 1, 'e': 1, 'l': 3, 'o': 2, 'W': 1, 'r': 1, 'd': 1}\n"
     ]
    }
   ],
   "source": [
    "# s = \"Hello World 123 !!!\"\n",
    "s = input(\"Nhập chuỗi : \")\n",
    "counts = {}\n",
    "for ch in s:\n",
    "    if ch.isalpha():\n",
    "        counts[ch] = counts.get(ch, 0) + 1\n",
    "print(counts)  # {'H':1, 'e':1, 'l':3, 'o':2, 'W':1, 'r':1, 'd':1}\n"
   ]
  },
  {
   "cell_type": "code",
   "execution_count": 14,
   "id": "73e15d3d",
   "metadata": {},
   "outputs": [
    {
     "name": "stdout",
     "output_type": "stream",
     "text": [
      "Nhập chuỗi: Hello World 123\n",
      "H: 1\n",
      "e: 1\n",
      "l: 3\n",
      "o: 2\n",
      "W: 1\n",
      "r: 1\n",
      "d: 1\n"
     ]
    }
   ],
   "source": [
    "s = input(\"Nhập chuỗi: \")\n",
    "\n",
    "chars = []    # lưu các chữ cái duy nhất\n",
    "counts = []   # lưu số lần xuất hiện tương ứng\n",
    "\n",
    "for ch in s:\n",
    "    if ch.isalpha():\n",
    "        if ch in chars:\n",
    "            index = chars.index(ch)\n",
    "            counts[index] += 1\n",
    "        else:\n",
    "            chars.append(ch)\n",
    "            counts.append(1)\n",
    "\n",
    "# In kết quả\n",
    "for i in range(len(chars)):\n",
    "    print(f\"{chars[i]}: {counts[i]}\")\n"
   ]
  },
  {
   "cell_type": "code",
   "execution_count": null,
   "id": "3106fd23",
   "metadata": {},
   "outputs": [],
   "source": [
    "s = input(\"Nhập chuỗi: \")\n",
    "\n",
    "chars = []   # lưu chữ cái duy nhất\n",
    "counts = []  # lưu số lần xuất hiện\n",
    "\n",
    "for ch in s:\n",
    "    if ch.isalpha():\n",
    "        if ch not in chars:\n",
    "            chars.append(ch)\n",
    "            counts.append(1)\n",
    "        else:\n",
    "            idx = chars.index(ch)\n",
    "            counts[idx] += 1\n",
    "\n",
    "for i in range(len(chars)):\n",
    "    print(f\"{chars[i]}:{counts[i]}\", end=\", \")\n"
   ]
  },
  {
   "cell_type": "markdown",
   "id": "3d4e75c3",
   "metadata": {},
   "source": [
    "#### 4. Nhập vào một chuỗi (mỗi từ cách nhau bởi một khoảng trắng). Chuyển ký tự đầu tiên của mỗi từ sang chữ in hoa.\n",
    "#### Ví dụ : s = ‘lap trinh python’ . In ra ‘Lap Trinh Python’"
   ]
  },
  {
   "cell_type": "code",
   "execution_count": 13,
   "id": "893fb57e",
   "metadata": {},
   "outputs": [
    {
     "name": "stdout",
     "output_type": "stream",
     "text": [
      "Nhập chuỗi : lap trinh python\n",
      "Lap Trinh Python\n"
     ]
    }
   ],
   "source": [
    "# s = \"lap trinh python\"\n",
    "s = input(\"Nhập chuỗi : \")\n",
    "print(s.title())  # Lap Trinh Python\n"
   ]
  },
  {
   "cell_type": "markdown",
   "id": "7bd7cf68",
   "metadata": {},
   "source": [
    "#### 5. Nhập vào một chuỗi, đếm số lượng chữ cái in hoa, chữ cái in thường."
   ]
  },
  {
   "cell_type": "code",
   "execution_count": null,
   "id": "a0610bd5",
   "metadata": {},
   "outputs": [],
   "source": [
    "s = \"Lap Trinh Python 123\"\n",
    "upper = sum(1 for ch in s if ch.isupper())\n",
    "lower = sum(1 for ch in s if ch.islower())\n",
    "print(\"Chữ hoa:\", upper, \" | Chữ thường:\", lower)\n"
   ]
  },
  {
   "cell_type": "markdown",
   "id": "940d5a50",
   "metadata": {},
   "source": [
    "#### 6. Nhập vào một chuỗi các số nguyên cách nhau dấu phẩy. In ra các số nguyên tố\n",
    "#### Ví dụ: chuỗi s = ’12,11,2,4,56,7,9,13’ . In ra 11, 2, 7, 13"
   ]
  },
  {
   "cell_type": "code",
   "execution_count": 16,
   "id": "bccbcedc",
   "metadata": {},
   "outputs": [
    {
     "name": "stdout",
     "output_type": "stream",
     "text": [
      "hello:1, world:3, hi:2, goodbye:1, "
     ]
    }
   ],
   "source": [
    "s = \"hello world hi world goodbye world hi\"\n",
    "words = s.split()\n",
    "counts = {}\n",
    "for w in words:\n",
    "    counts[w] = counts.get(w, 0) + 1\n",
    "for k, v in counts.items():\n",
    "    print(f\"{k}:{v}\", end=\", \")\n"
   ]
  },
  {
   "cell_type": "code",
   "execution_count": null,
   "id": "b76da26f",
   "metadata": {},
   "outputs": [],
   "source": [
    "s = input(\"Nhập chuỗi: \")\n",
    "\n",
    "words = s.split()\n",
    "\n",
    "unique_words = []  # danh sách từ duy nhất\n",
    "counts = []        # số lần xuất hiện tương ứng\n",
    "\n",
    "for w in words:\n",
    "    if w in unique_words:\n",
    "        index = unique_words.index(w)\n",
    "        counts[index] += 1\n",
    "    else:\n",
    "        unique_words.append(w)\n",
    "        counts.append(1)\n",
    "\n",
    "# In kết quả\n",
    "for i in range(len(unique_words)):\n",
    "    print(f\"{unique_words[i]}:{counts[i]}\", end=\", \")\n"
   ]
  },
  {
   "cell_type": "markdown",
   "id": "de7bb58b",
   "metadata": {},
   "source": [
    "#### 7. Nhập vào một chuỗi (mỗi từ cách nhau bởi một khoảng trắng). Đếm số lần xuất hiện của mỗi từ trong chuỗi.\n",
    "#### Ví dụ: s=’hello world hi world goodbye world hi’. In ra hello:1 , world:3, hi:2, goodbye:1"
   ]
  },
  {
   "cell_type": "code",
   "execution_count": null,
   "id": "53224080",
   "metadata": {},
   "outputs": [],
   "source": [
    "s = \"hello world hi world goodbye world hi\"\n",
    "words = s.split()\n",
    "counts = {}\n",
    "for w in words:\n",
    "    counts[w] = counts.get(w, 0) + 1\n",
    "for k, v in counts.items():\n",
    "    print(f\"{k}:{v}\", end=\", \")\n"
   ]
  },
  {
   "cell_type": "code",
   "execution_count": null,
   "id": "c344faa2",
   "metadata": {},
   "outputs": [],
   "source": [
    "s = input(\"Nhập chuỗi: \")\n",
    "\n",
    "words = s.split()\n",
    "\n",
    "unique_words = []  # danh sách từ duy nhất\n",
    "counts = []        # số lần xuất hiện tương ứng\n",
    "\n",
    "for w in words:\n",
    "    if w in unique_words:\n",
    "        idx = unique_words.index(w)\n",
    "        counts[idx] += 1\n",
    "    else:\n",
    "        unique_words.append(w)\n",
    "        counts.append(1)\n",
    "\n",
    "# In kết quả\n",
    "for i in range(len(unique_words)):\n",
    "    print(f\"{unique_words[i]}:{counts[i]}\", end=\", \")\n"
   ]
  },
  {
   "cell_type": "code",
   "execution_count": 18,
   "id": "f852687a",
   "metadata": {},
   "outputs": [
    {
     "name": "stdout",
     "output_type": "stream",
     "text": [
      "Nhập chuỗi: danh sách từ duy nhất\n",
      "danh:1\n",
      "sách:1\n",
      "từ:1\n",
      "duy:1\n",
      "nhất:1\n"
     ]
    }
   ],
   "source": [
    "s = input(\"Nhập chuỗi: \")\n",
    "words = s.split()    # tách chuỗi thành danh sách từ\n",
    "check = []           # danh sách lưu các từ đã kiểm tra\n",
    "\n",
    "for w in words:\n",
    "    if w not in check:\n",
    "        t = words.count(w)   # đếm số lần xuất hiện\n",
    "        print(f\"{w}:{t}\")\n",
    "        check.append(w)      # thêm từ đã kiểm tra vào danh sách\n"
   ]
  },
  {
   "cell_type": "code",
   "execution_count": null,
   "id": "2b02e3ec",
   "metadata": {},
   "outputs": [],
   "source": []
  }
 ],
 "metadata": {
  "kernelspec": {
   "display_name": "Python (khoacai)",
   "language": "python",
   "name": "cits4012cuakhoa"
  },
  "language_info": {
   "codemirror_mode": {
    "name": "ipython",
    "version": 3
   },
   "file_extension": ".py",
   "mimetype": "text/x-python",
   "name": "python",
   "nbconvert_exporter": "python",
   "pygments_lexer": "ipython3",
   "version": "3.8.10"
  }
 },
 "nbformat": 4,
 "nbformat_minor": 5
}
